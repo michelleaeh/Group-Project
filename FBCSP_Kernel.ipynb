{
  "nbformat": 4,
  "nbformat_minor": 0,
  "metadata": {
    "colab": {
      "name": "FBCSP_Kernel.ipynb",
      "provenance": [],
      "collapsed_sections": [],
      "authorship_tag": "ABX9TyMKnBJZKdOe145tOPw03RwE",
      "include_colab_link": true
    },
    "kernelspec": {
      "name": "python3",
      "display_name": "Python 3"
    }
  },
  "cells": [
    {
      "cell_type": "markdown",
      "metadata": {
        "id": "view-in-github",
        "colab_type": "text"
      },
      "source": [
        "<a href=\"https://colab.research.google.com/github/michelleaeh/Group-Project/blob/master/FBCSP_Kernel.ipynb\" target=\"_parent\"><img src=\"https://colab.research.google.com/assets/colab-badge.svg\" alt=\"Open In Colab\"/></a>"
      ]
    },
    {
      "cell_type": "markdown",
      "metadata": {
        "id": "QsPQxFEjIl84",
        "colab_type": "text"
      },
      "source": [
        "Kernels"
      ]
    },
    {
      "cell_type": "code",
      "metadata": {
        "id": "3NNGwSsCJeYU",
        "colab_type": "code",
        "colab": {}
      },
      "source": [
        "import pandas as pd\n",
        "import numpy as np\n",
        "import matplotlib.pyplot as plt\n",
        "\n",
        "from sklearn import metrics\n",
        "from sklearn import svm\n",
        "from sklearn import tree\n",
        "from sklearn.impute import SimpleImputer\n",
        "from sklearn.model_selection import train_test_split\n",
        "from sklearn.naive_bayes import GaussianNB\n",
        "from sklearn.preprocessing import StandardScaler\n",
        "from sklearn.svm import LinearSVC\n",
        "from sklearn.tree import DecisionTreeClassifier, plot_tree\n",
        "from sklearn.metrics import accuracy_score as acc\n",
        "from sklearn.model_selection import cross_val_score\n",
        "from sklearn.metrics import make_scorer"
      ],
      "execution_count": 0,
      "outputs": []
    },
    {
      "cell_type": "code",
      "metadata": {
        "id": "NdAHv1UpJfRC",
        "colab_type": "code",
        "colab": {}
      },
      "source": [
        "from scipy.io import loadmat\n",
        "from google.colab import files\n",
        "uploaded = files.upload()"
      ],
      "execution_count": 0,
      "outputs": []
    },
    {
      "cell_type": "code",
      "metadata": {
        "id": "5y4Hjw7oJiCL",
        "colab_type": "code",
        "colab": {}
      },
      "source": [
        "#Obtain data set\n",
        "import io\n",
        "import sys\n",
        "\n",
        "filenames=['fbcsp_1.mat','fbcsp_2.mat','fbcsp_3.mat','fbcsp_4.mat','fbcsp_5.mat','fbcsp_6.mat','fbcsp_7.mat','fbcsp_8.mat','fbcsp_9.mat','fbcsp_10.mat','fbcsp_11.mat','fbcsp_12.mat','fbcsp_13.mat','fbcsp_14.mat','fbcsp_15.mat','fbcsp_16.mat','fbcsp_17.mat','fbcsp_18.mat']\n",
        "tcol=['Accuracy','kappa statistic']\n",
        "data=np.zeros((19,2))\n",
        "trow=[\"\" for x in range(19)]\n",
        "\n",
        "for i in filenames:\n",
        "  dataset=loadmat(io.BytesIO(uploaded[i]),struct_as_record=False)\n",
        "\n",
        "  # Division of data\n",
        "  Train_X = dataset['Train_X']\n",
        "  Train_Y = dataset['Train_Y']\n",
        "  Test_X = dataset['Test_X']\n",
        "  Test_Y = dataset['Test_Y']\n",
        "\n",
        "  #SVM classifier object creation\n",
        "  #sv=svm.LinearSVC()\n",
        "  #sv.fit(Train_X,Train_Y)\n",
        "  #LinearSVC()\n",
        "\n",
        "  #Predict response of test data\n",
        "  svpred=sv.predict(Test_X)\n",
        "\n",
        "  for p in range(18):\n",
        "    if filenames[p]==i:\n",
        "      #Calculate accuracy\n",
        "      acc=metrics.accuracy_score(Test_Y,svpred)\n",
        "      data[p,0]=acc\n",
        "\n",
        "      #Calculate kappa statistic\n",
        "      kap=metrics.cohen_kappa_score(svpred,Test_Y)\n",
        "      data[p,1]=kap\n",
        "\n",
        "      #Set titles for data frame\n",
        "      trow[p]='Patient '+str(p+1)\n",
        "      trow[18]='Average'\n",
        "\n",
        "#Calculate average accuracy and kappa statistics\n",
        "avg=np.mean(data,axis=0)\n",
        "data[18,0]=avg[0]\n",
        "data[18,1]=avg[1]\n",
        "\n",
        "#Display table\n",
        "table=pd.DataFrame(data,columns=tcol,index=trow)\n",
        "print(table)\n",
        "sys.tracebacklimit = 0"
      ],
      "execution_count": 0,
      "outputs": []
    }
  ]
}