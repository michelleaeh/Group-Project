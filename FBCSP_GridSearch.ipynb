{
  "nbformat": 4,
  "nbformat_minor": 0,
  "metadata": {
    "colab": {
      "name": "FBCSP_GridSearch.ipynb",
      "provenance": [],
      "authorship_tag": "ABX9TyOMutgcHsw1Y6erlElr4+Uq",
      "include_colab_link": true
    },
    "kernelspec": {
      "name": "python3",
      "display_name": "Python 3"
    }
  },
  "cells": [
    {
      "cell_type": "markdown",
      "metadata": {
        "id": "view-in-github",
        "colab_type": "text"
      },
      "source": [
        "<a href=\"https://colab.research.google.com/github/michelleaeh/Group-Project/blob/master/FBCSP_GridSearch.ipynb\" target=\"_parent\"><img src=\"https://colab.research.google.com/assets/colab-badge.svg\" alt=\"Open In Colab\"/></a>"
      ]
    },
    {
      "cell_type": "markdown",
      "metadata": {
        "id": "O-Jk5B-ZIv-6",
        "colab_type": "text"
      },
      "source": [
        "Grid search"
      ]
    }
  ]
}